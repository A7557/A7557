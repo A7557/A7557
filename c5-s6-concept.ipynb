{
 "cells": [
  {
   "cell_type": "code",
   "execution_count": 2,
   "id": "969a9c10",
   "metadata": {},
   "outputs": [],
   "source": [
    "import warnings\n",
    "warnings.filterwarnings('ignore')\n",
    "import matplotlib.pyplot as plt\n",
    "import seaborn as sb\n",
    "import pandas as pd\n",
    "import numpy as np\n",
    "import statistics as st\n",
    "import math\n",
    "\n",
    "from scipy.stats import binom\n",
    "from scipy.stats import poisson\n",
    "from scipy.stats import norm\n",
    "from scipy.stats import stats"
   ]
  },
  {
   "cell_type": "code",
   "execution_count": 9,
   "id": "ff2a28dc",
   "metadata": {},
   "outputs": [
    {
     "data": {
      "text/html": [
       "<div>\n",
       "<style scoped>\n",
       "    .dataframe tbody tr th:only-of-type {\n",
       "        vertical-align: middle;\n",
       "    }\n",
       "\n",
       "    .dataframe tbody tr th {\n",
       "        vertical-align: top;\n",
       "    }\n",
       "\n",
       "    .dataframe thead th {\n",
       "        text-align: right;\n",
       "    }\n",
       "</style>\n",
       "<table border=\"1\" class=\"dataframe\">\n",
       "  <thead>\n",
       "    <tr style=\"text-align: right;\">\n",
       "      <th></th>\n",
       "      <th>State</th>\n",
       "      <th>2018_Number_of_farms</th>\n",
       "      <th>2019_Number_of_farms</th>\n",
       "      <th>2018_Land_in_farms(in1,000acres)</th>\n",
       "      <th>2019_Land_in_farms(in1,000acres)</th>\n",
       "      <th>2018_Average_farm_size(acres)</th>\n",
       "      <th>2019_Average_farm_size(acres)</th>\n",
       "    </tr>\n",
       "  </thead>\n",
       "  <tbody>\n",
       "    <tr>\n",
       "      <th>0</th>\n",
       "      <td>Alabama</td>\n",
       "      <td>39700</td>\n",
       "      <td>38800</td>\n",
       "      <td>8500</td>\n",
       "      <td>8300</td>\n",
       "      <td>214</td>\n",
       "      <td>214</td>\n",
       "    </tr>\n",
       "    <tr>\n",
       "      <th>1</th>\n",
       "      <td>Alaska</td>\n",
       "      <td>1000</td>\n",
       "      <td>1050</td>\n",
       "      <td>850</td>\n",
       "      <td>850</td>\n",
       "      <td>850</td>\n",
       "      <td>810</td>\n",
       "    </tr>\n",
       "    <tr>\n",
       "      <th>2</th>\n",
       "      <td>Arizona</td>\n",
       "      <td>19200</td>\n",
       "      <td>19000</td>\n",
       "      <td>26200</td>\n",
       "      <td>26200</td>\n",
       "      <td>1365</td>\n",
       "      <td>1379</td>\n",
       "    </tr>\n",
       "    <tr>\n",
       "      <th>3</th>\n",
       "      <td>Arkansas</td>\n",
       "      <td>42500</td>\n",
       "      <td>42300</td>\n",
       "      <td>13900</td>\n",
       "      <td>14000</td>\n",
       "      <td>327</td>\n",
       "      <td>331</td>\n",
       "    </tr>\n",
       "    <tr>\n",
       "      <th>4</th>\n",
       "      <td>California</td>\n",
       "      <td>69400</td>\n",
       "      <td>69900</td>\n",
       "      <td>24300</td>\n",
       "      <td>24300</td>\n",
       "      <td>350</td>\n",
       "      <td>348</td>\n",
       "    </tr>\n",
       "  </tbody>\n",
       "</table>\n",
       "</div>"
      ],
      "text/plain": [
       "        State  2018_Number_of_farms  2019_Number_of_farms  \\\n",
       "0     Alabama                 39700                 38800   \n",
       "1      Alaska                  1000                  1050   \n",
       "2     Arizona                 19200                 19000   \n",
       "3    Arkansas                 42500                 42300   \n",
       "4  California                 69400                 69900   \n",
       "\n",
       "   2018_Land_in_farms(in1,000acres)  2019_Land_in_farms(in1,000acres)  \\\n",
       "0                              8500                              8300   \n",
       "1                               850                               850   \n",
       "2                             26200                             26200   \n",
       "3                             13900                             14000   \n",
       "4                             24300                             24300   \n",
       "\n",
       "    2018_Average_farm_size(acres)   2019_Average_farm_size(acres)  \n",
       "0                             214                             214  \n",
       "1                             850                             810  \n",
       "2                            1365                            1379  \n",
       "3                             327                             331  \n",
       "4                             350                             348  "
      ]
     },
     "execution_count": 9,
     "metadata": {},
     "output_type": "execute_result"
    }
   ],
   "source": [
    "farm_df=pd.read_csv('DS1_C5_S6_Hypothesis_I_Concept_FarmSize_Data.csv')\n",
    "farm_df.head()"
   ]
  },
  {
   "cell_type": "code",
   "execution_count": 11,
   "id": "44eabd9a",
   "metadata": {},
   "outputs": [],
   "source": [
    "sample_df= farm_df.sample(n=35, random_state=1)"
   ]
  },
  {
   "cell_type": "code",
   "execution_count": 14,
   "id": "d3d7430b",
   "metadata": {},
   "outputs": [
    {
     "name": "stdout",
     "output_type": "stream",
     "text": [
      "Sample Mean: 421.4\n"
     ]
    }
   ],
   "source": [
    "s_mean=st.mean(sample_df[' 2019_Average_farm_size(acres)'])\n",
    "print(\"Sample Mean: \"+str(s_mean))"
   ]
  },
  {
   "cell_type": "code",
   "execution_count": 6,
   "id": "a7634e86",
   "metadata": {},
   "outputs": [
    {
     "name": "stdout",
     "output_type": "stream",
     "text": [
      "The Z statistics is  0.5533014228614227\n",
      "The p_value is 0.29002851345419445\n",
      "The z-critical value is 1.6448536269514722\n"
     ]
    }
   ],
   "source": [
    "x= 489.17 #Sample mean\n",
    "mu = 445.51 #Population mean\n",
    "S = 466.827 # Population standard deviation\n",
    "n= 35 # Sample size \n",
    "alpha=0.05 # significance Level\n",
    "\n",
    "z_statistic = (x-mu) / (S/math.sqrt(n)) \n",
    "print(\"The Z statistics is \", z_statistic)\n",
    "\n",
    "p_value = norm.sf (abs (z_statistic)) #One tailed test \n",
    "print(\"The p_value is \"+str(p_value))\n",
    "\n",
    "z_critical = norm.ppf (1-alpha)# Right Tailed test\n",
    "print(\"The z-critical value is \"+str(z_critical))"
   ]
  },
  {
   "cell_type": "code",
   "execution_count": 15,
   "id": "d301d49a",
   "metadata": {},
   "outputs": [
    {
     "name": "stdout",
     "output_type": "stream",
     "text": [
      "Accept Null Hypothesis i.e. no significant difference\n"
     ]
    }
   ],
   "source": [
    "if z_statistic<z_critical and p_value>alpha:\n",
    "    print(\"Accept Null Hypothesis i.e. no significant difference\") \n",
    "else:\n",
    "    print(\"Reject Null Hypothesis i.e. there is a significant difference\")"
   ]
  },
  {
   "cell_type": "code",
   "execution_count": 7,
   "id": "b9e6743d",
   "metadata": {},
   "outputs": [
    {
     "name": "stdout",
     "output_type": "stream",
     "text": [
      "True\n"
     ]
    }
   ],
   "source": [
    "print(z_statistic<z_critical)"
   ]
  },
  {
   "cell_type": "code",
   "execution_count": 8,
   "id": "1f81b10b",
   "metadata": {},
   "outputs": [
    {
     "name": "stdout",
     "output_type": "stream",
     "text": [
      "False\n"
     ]
    }
   ],
   "source": [
    "print(p_value<alpha)"
   ]
  },
  {
   "cell_type": "code",
   "execution_count": 17,
   "id": "93013d20",
   "metadata": {},
   "outputs": [
    {
     "name": "stdout",
     "output_type": "stream",
     "text": [
      "Sample Mean =  4.15625\n"
     ]
    }
   ],
   "source": [
    "sample_ratings=[3,4,5,5,4,5,5,4,4,4,4,4,4,4,4,5,4,4,4,3,4,4,4,3,5,4,4,5,4,4,4,5]\n",
    "sample_mean=st.mean (sample_ratings) \n",
    "print(\"Sample Mean = \", sample_mean)"
   ]
  },
  {
   "cell_type": "code",
   "execution_count": 19,
   "id": "c26416f4",
   "metadata": {},
   "outputs": [
    {
     "name": "stdout",
     "output_type": "stream",
     "text": [
      "The Z statistics is  -1.4166773490671232\n",
      "The p_value is 0.07828864121333116\n",
      "The z-critical value is -1.2815515655446004\n",
      "True\n",
      "True\n"
     ]
    }
   ],
   "source": [
    "alpha=0.1\n",
    "p_mean =4.3\n",
    "p_sd=0.574\n",
    "n=len(sample_ratings)\n",
    "z_statistic = (sample_mean-p_mean) / (p_sd/math.sqrt(n)) \n",
    "print(\"The Z statistics is \", z_statistic)\n",
    "\n",
    "p_value = norm.sf(abs(z_statistic)) # One tailed test \n",
    "print(\"The p_value is \"+str(p_value))\n",
    "\n",
    "z_critical = norm.ppf (alpha) #\n",
    "print(\"The z-critical value is \"+str(z_critical))\n",
    "print (p_value<alpha)\n",
    "print(z_statistic<z_critical)"
   ]
  },
  {
   "cell_type": "code",
   "execution_count": 20,
   "id": "5330a14c",
   "metadata": {},
   "outputs": [
    {
     "name": "stdout",
     "output_type": "stream",
     "text": [
      "Reject Null Hypothesis i.e. there is a significant difference\n"
     ]
    }
   ],
   "source": [
    "if z_statistic>z_critical and p_value>alpha:\n",
    "    print(\"Accept Null Hypothesis i.e. no significant difference\") \n",
    "else:\n",
    "    print(\"Reject Null Hypothesis i.e. there is a significant difference\")"
   ]
  },
  {
   "cell_type": "code",
   "execution_count": 26,
   "id": "5051252e",
   "metadata": {},
   "outputs": [],
   "source": [
    "# 6.5\n",
    "\n",
    "wages_df= pd.read_csv('DS1_C5_S6_Hypothesis_I_Concept_Wages_Data.csv')"
   ]
  },
  {
   "cell_type": "code",
   "execution_count": 27,
   "id": "c5bea0b3",
   "metadata": {},
   "outputs": [
    {
     "data": {
      "text/plain": [
       "Advertising Manager    2\n",
       "Sales Manager          0\n",
       "dtype: int64"
      ]
     },
     "execution_count": 27,
     "metadata": {},
     "output_type": "execute_result"
    }
   ],
   "source": [
    "wages_df.isnull().sum()"
   ]
  },
  {
   "cell_type": "code",
   "execution_count": 28,
   "id": "3a0b3d6c",
   "metadata": {},
   "outputs": [],
   "source": [
    "wages_df.dropna(inplace=True)"
   ]
  },
  {
   "cell_type": "code",
   "execution_count": 29,
   "id": "2e17fc32",
   "metadata": {},
   "outputs": [
    {
     "data": {
      "text/plain": [
       "Advertising Manager    0\n",
       "Sales Manager          0\n",
       "dtype: int64"
      ]
     },
     "execution_count": 29,
     "metadata": {},
     "output_type": "execute_result"
    }
   ],
   "source": [
    "wages_df.isnull().sum()"
   ]
  },
  {
   "cell_type": "code",
   "execution_count": 32,
   "id": "266b4c36",
   "metadata": {},
   "outputs": [
    {
     "name": "stdout",
     "output_type": "stream",
     "text": [
      "Advertising Manager:\n",
      "Mean = 70.27830303030304\n",
      "Standard Deviation = 16.179630804434414\n",
      "Sample Size = 33\n",
      "Variance = 261.780452967803\n",
      "\n",
      "Sales Manager:\n",
      "Mean = 61.95096969696969\n",
      "Standard Deviation =13.025483219167073\n",
      "Sample Size=33\n",
      "Variance = 169.66321309280303\n"
     ]
    }
   ],
   "source": [
    "n1 = len(wages_df['Advertising Manager'])\n",
    "s_mean1 = st.mean(wages_df['Advertising Manager']) \n",
    "s_sd1 = st.stdev(wages_df['Advertising Manager'])\n",
    "s_var1 = s_sd1**2\n",
    "print('Advertising Manager:')\n",
    "print('Mean = '+str(s_mean1))\n",
    "print('Standard Deviation = '+str(s_sd1))\n",
    "print('Sample Size = '+str(n1))\n",
    "print('Variance = '+str(s_var1))\n",
    "\n",
    "#Sample 2: Sale Manager\n",
    "n2 = len(wages_df['Sales Manager'])\n",
    "s_mean2 = st.mean (wages_df['Sales Manager'])\n",
    "s_sd2 = st.stdev (wages_df['Sales Manager'])\n",
    "s_var2 = s_sd2**2\n",
    "print('\\nSales Manager:')\n",
    "print('Mean = '+str(s_mean2))\n",
    "print('Standard Deviation =' + str(s_sd2))\n",
    "print('Sample Size=' + str(n2))\n",
    "print('Variance = '+str(s_var2))"
   ]
  },
  {
   "cell_type": "code",
   "execution_count": 38,
   "id": "d4ed7763",
   "metadata": {},
   "outputs": [
    {
     "name": "stdout",
     "output_type": "stream",
     "text": [
      "The 2 statistics is 2.3030367622548895\n",
      "the p value is 0.02127677478056706\n",
      "The positive z-critical value is 1.959963984540054\n",
      "The - z-critical value is -1.9599639845400545\n"
     ]
    }
   ],
   "source": [
    "alpha=0.05\n",
    "z_statistics = ((s_mean1 - s_mean2)) / (math.sqrt(s_var1/n1 + s_var2/n2))\n",
    "print(\"The 2 statistics is\", z_statistics)\n",
    "\n",
    "p_value = norm.sf(abs(z_statistics))*2 # two tailed test \n",
    "print(\"the p value is \"+str(p_value))\n",
    "      \n",
    "pos_z_critical = norm.ppf(1-alpha/2)\n",
    "print(\"The positive z-critical value is \"+str(pos_z_critical))\n",
    "\n",
    "neg_z_critical = norm.ppf(alpha/2) #two tailed test \n",
    "print(\"The - z-critical value is \"+str(neg_z_critical))"
   ]
  },
  {
   "cell_type": "code",
   "execution_count": 39,
   "id": "9d731ad1",
   "metadata": {},
   "outputs": [
    {
     "name": "stdout",
     "output_type": "stream",
     "text": [
      "Reject Null Hypothesis i.e. there is a significant difference\n"
     ]
    }
   ],
   "source": [
    "if neg_z_critical<z_statistics and p_value>alpha:\n",
    "    print(\"Accept Null Hypothesis i.e. no significant difference\") \n",
    "else:\n",
    "    print(\"Reject Null Hypothesis i.e. there is a significant difference\")"
   ]
  },
  {
   "cell_type": "code",
   "execution_count": null,
   "id": "0db823c8",
   "metadata": {},
   "outputs": [],
   "source": []
  }
 ],
 "metadata": {
  "kernelspec": {
   "display_name": "Python 3 (ipykernel)",
   "language": "python",
   "name": "python3"
  },
  "language_info": {
   "codemirror_mode": {
    "name": "ipython",
    "version": 3
   },
   "file_extension": ".py",
   "mimetype": "text/x-python",
   "name": "python",
   "nbconvert_exporter": "python",
   "pygments_lexer": "ipython3",
   "version": "3.9.12"
  }
 },
 "nbformat": 4,
 "nbformat_minor": 5
}
